{
 "cells": [
  {
   "cell_type": "code",
   "execution_count": 1,
   "id": "672775cd",
   "metadata": {},
   "outputs": [
    {
     "name": "stdout",
     "output_type": "stream",
     "text": [
      "WARNING:tensorflow:From F:\\APPS\\PANDAS\\lib\\site-packages\\keras\\src\\losses.py:2976: The name tf.losses.sparse_softmax_cross_entropy is deprecated. Please use tf.compat.v1.losses.sparse_softmax_cross_entropy instead.\n",
      "\n"
     ]
    }
   ],
   "source": [
    "import os\n",
    "import h5py\n",
    "import numpy as np\n",
    "from keras.preprocessing.image import ImageDataGenerator\n",
    "from keras import optimizers\n",
    "from tensorflow.keras.models import Sequential\n",
    "from tensorflow.keras.layers import Convolution2D,MaxPooling2D,Activation, Dropout, Flatten, Dense, BatchNormalization\n"
   ]
  },
  {
   "cell_type": "code",
   "execution_count": 2,
   "id": "0b3055e8",
   "metadata": {},
   "outputs": [],
   "source": [
    "# DATA PROCESSING"
   ]
  },
  {
   "cell_type": "code",
   "execution_count": 3,
   "id": "ebb8abda",
   "metadata": {},
   "outputs": [
    {
     "name": "stdout",
     "output_type": "stream",
     "text": [
      "Found 78200 images belonging to 46 classes.\n",
      "Found 13800 images belonging to 46 classes.\n"
     ]
    }
   ],
   "source": [
    "trainDataGen = ImageDataGenerator(\n",
    "\t\trotation_range = 5,\n",
    "\t\twidth_shift_range = 0.1,\n",
    "\t\theight_shift_range = 0.1,\n",
    "\t\trescale = 1.0/255,\n",
    "\t\tshear_range = 0.2,\n",
    "\t\tzoom_range = 0.2,\t\t\n",
    "\t\thorizontal_flip = False,\n",
    "\t\tfill_mode = 'nearest')\n",
    "\n",
    "test_datagen = ImageDataGenerator(rescale=1./255)\n",
    "trainGenerator = trainDataGen.flow_from_directory(\n",
    "\t\t\t\"F:\\PE UDEMY\\TEXT DETECTION\\FINAL 2\\devanagari+handwritten+character+dataset\\DevanagariHandwrittenCharacterDataset\\Train\",\n",
    "\t\t\ttarget_size = (32,32),\n",
    "\t\t\tbatch_size = 32,\n",
    "\t\t\tcolor_mode = \"grayscale\",\n",
    "\t\t\tclass_mode = \"categorical\")\n",
    "validation_generator = test_datagen.flow_from_directory(\n",
    "\t\t\t\"F:\\PE UDEMY\\TEXT DETECTION\\FINAL 2\\devanagari+handwritten+character+dataset\\DevanagariHandwrittenCharacterDataset\\Test\",\n",
    "\t\t\ttarget_size=(32,32),\n",
    "\t\t\tbatch_size=32,\n",
    "\t\t\tcolor_mode = \"grayscale\",\n",
    "\t\t\tclass_mode= 'categorical')\n",
    "\n",
    "\n",
    "prev = \"\"\n",
    "labels = [\"ka\",\"kha\",\"ga\",\"gha\",\"kna\",\"cha\",\"chha\",\"ja\",\"jha\",\"yna\",\"t`a\",\"t`ha\",\"d`a\",\"d`ha\",\"adna\",\"ta\",\"tha\",\"da\",\"dha\",\"na\",\"pa\",\"pha\",\"ba\",\"bha\",\"ma\",\"yaw\",\"ra\",\"la\",\"waw\",\"sha\",\"shat\",\"sa\",\"ha\",\"aksha\",\"tra\",\"gya\",\"0\",\"1\",\"2\",\"3\",\"4\",\"5\",\"6\",\"7\",\"8\",\"9\"]\n",
    "count = 0;\n"
   ]
  },
  {
   "cell_type": "code",
   "execution_count": 4,
   "id": "0fdd62ed",
   "metadata": {},
   "outputs": [],
   "source": [
    "# ->CNN\n",
    "# ->FEATURE EXTRACTION\n",
    "# ->POOLING\n",
    "# ->FLATTENING"
   ]
  },
  {
   "cell_type": "code",
   "execution_count": 5,
   "id": "e79e458a",
   "metadata": {},
   "outputs": [
    {
     "name": "stdout",
     "output_type": "stream",
     "text": [
      "Found 13800 images belonging to 46 classes.\n",
      "WARNING:tensorflow:From F:\\APPS\\PANDAS\\lib\\site-packages\\keras\\src\\backend.py:873: The name tf.get_default_graph is deprecated. Please use tf.compat.v1.get_default_graph instead.\n",
      "\n",
      "WARNING:tensorflow:From F:\\APPS\\PANDAS\\lib\\site-packages\\keras\\src\\layers\\normalization\\batch_normalization.py:979: The name tf.nn.fused_batch_norm is deprecated. Please use tf.compat.v1.nn.fused_batch_norm instead.\n",
      "\n"
     ]
    }
   ],
   "source": [
    "validation_generator = test_datagen.flow_from_directory(\n",
    "\t\t\t\"F:\\PE UDEMY\\TEXT DETECTION\\FINAL 2\\devanagari+handwritten+character+dataset\\DevanagariHandwrittenCharacterDataset\\Test\",\n",
    "\t\t\ttarget_size=(32,32),\n",
    "\t\t\tbatch_size=32,\n",
    "\t\t\tcolor_mode = \"grayscale\",\n",
    "\t\t\tclass_mode= 'categorical')\n",
    "\n",
    "\n",
    "model = Sequential()\n",
    "\n",
    "#Layer1----------------------------------------------------------\n",
    "model.add(Convolution2D(filters = 32,\n",
    "\t\t\tkernel_size = (3,3),\n",
    "\t\t\tstrides = 1,\n",
    "\t\t\tactivation = \"relu\",\n",
    "\t\t\tinput_shape = (32,32,1)))\n",
    "\n",
    "model.add(BatchNormalization())\n",
    "model.add(MaxPooling2D(pool_size=(2, 2),\n",
    "\t\t\tstrides=(2, 2),\n",
    "\t\t\tpadding=\"same\"))\n",
    "\n",
    "#Layer2-------------------------------------------------------------\n",
    "model.add(Convolution2D(filters = 32,\n",
    "\t\t\tkernel_size = (3,3),\n",
    "\t\t\tstrides = 1,\n",
    "\t\t\tactivation = \"relu\",\n",
    "\t\t\tinput_shape = (32,32,1)))\n",
    "model.add(BatchNormalization())\n",
    "model.add(MaxPooling2D(pool_size=(2, 2),\n",
    "\t\t\tstrides=(2, 2),\n",
    "\t\t\tpadding=\"same\"))\n",
    "\n",
    "\n",
    "#Layers 3-----------------------------------------------------------\t\n",
    "model.add(Convolution2D(filters = 64,\n",
    "\t\t\tkernel_size = (3,3),\n",
    "\t\t\tstrides = 1,\n",
    "\t\t\tactivation = \"relu\"))\n",
    "model.add(BatchNormalization())\n",
    "model.add(MaxPooling2D(pool_size=(2, 2),\n",
    "\t\t\tstrides=(2, 2),\n",
    "\t\t\tpadding=\"same\"))\n",
    "\n",
    "\n",
    "#Layer 4--------------------------------------------------\n",
    "model.add(Convolution2D(filters = 64,\n",
    "\t\t\tkernel_size = (3,3),\n",
    "\t\t\tstrides= 1,\n",
    "\t\t\tactivation = \"relu\"))\n",
    "model.add(BatchNormalization())\n",
    "model.add(MaxPooling2D(pool_size=(2, 2),\n",
    "\t\t\tstrides=(2, 2),\n",
    "\t\t\tpadding=\"same\"))\t\t\t\n",
    "model.add(Flatten())\n"
   ]
  },
  {
   "cell_type": "code",
   "execution_count": 6,
   "id": "9dfd0c3f",
   "metadata": {},
   "outputs": [
    {
     "name": "stdout",
     "output_type": "stream",
     "text": [
      "WARNING:tensorflow:From F:\\APPS\\PANDAS\\lib\\site-packages\\keras\\src\\optimizers\\__init__.py:309: The name tf.train.Optimizer is deprecated. Please use tf.compat.v1.train.Optimizer instead.\n",
      "\n",
      "Epoch 1/5\n"
     ]
    },
    {
     "name": "stderr",
     "output_type": "stream",
     "text": [
      "C:\\Users\\dell\\AppData\\Local\\Temp\\ipykernel_26044\\4230551066.py:24: UserWarning: `Model.fit_generator` is deprecated and will be removed in a future version. Please use `Model.fit`, which supports generators.\n",
      "  res=model.fit_generator(\n"
     ]
    },
    {
     "name": "stdout",
     "output_type": "stream",
     "text": [
      "WARNING:tensorflow:From F:\\APPS\\PANDAS\\lib\\site-packages\\keras\\src\\utils\\tf_utils.py:492: The name tf.ragged.RaggedTensorValue is deprecated. Please use tf.compat.v1.ragged.RaggedTensorValue instead.\n",
      "\n",
      "WARNING:tensorflow:From F:\\APPS\\PANDAS\\lib\\site-packages\\keras\\src\\engine\\base_layer_utils.py:384: The name tf.executing_eagerly_outside_functions is deprecated. Please use tf.compat.v1.executing_eagerly_outside_functions instead.\n",
      "\n",
      "2444/2444 [==============================] - 288s 117ms/step - loss: 0.8286 - accuracy: 0.7675 - val_loss: 0.1941 - val_accuracy: 0.9374\n",
      "Epoch 2/5\n",
      "2444/2444 [==============================] - 71s 29ms/step - loss: 0.2979 - accuracy: 0.9084 - val_loss: 0.1456 - val_accuracy: 0.9543\n",
      "Epoch 3/5\n",
      "2444/2444 [==============================] - 74s 30ms/step - loss: 0.2313 - accuracy: 0.9275 - val_loss: 0.1386 - val_accuracy: 0.9571\n",
      "Epoch 4/5\n",
      "2444/2444 [==============================] - 63s 26ms/step - loss: 0.2010 - accuracy: 0.9368 - val_loss: 0.0779 - val_accuracy: 0.9767\n",
      "Epoch 5/5\n",
      "2444/2444 [==============================] - 67s 27ms/step - loss: 0.1759 - accuracy: 0.9460 - val_loss: 0.0822 - val_accuracy: 0.9753\n"
     ]
    }
   ],
   "source": [
    "#Fully Connected Layer 1----------------\n",
    "model.add(Dense(128,\n",
    "\t\tactivation = \"relu\",\n",
    "\t\tkernel_initializer = \"uniform\"))\n",
    "model.add(BatchNormalization())\t\t\t\n",
    "\n",
    "#Fully Connected Layer 2----------------\n",
    "model.add(Dense(64,\n",
    "\t\tactivation = \"relu\",\n",
    "\t\tkernel_initializer = \"uniform\"))\n",
    "model.add(BatchNormalization())\t\t\t\n",
    "\n",
    "#Fully Connected Layer 3----------------\n",
    "model.add(Dense(46,\n",
    "\t\tactivation = \"softmax\",\n",
    "\t\tkernel_initializer = \"uniform\"))\t\t\t\n",
    "\n",
    "#Compile Model---------------------------\n",
    "model.compile(optimizer = \"adam\",\n",
    "\t\tloss = \"categorical_crossentropy\",\n",
    "\t\tmetrics = [\"accuracy\"])\n",
    "\n",
    "#Fit model on the loaded dataset---------\n",
    "res=model.fit_generator(\n",
    "\t\ttrainGenerator,\n",
    "\t\tepochs = 5,\n",
    "\t\tsteps_per_epoch = 2444,\n",
    "\t\tvalidation_data = validation_generator,\n",
    "\t\tvalidation_steps = 432\n",
    "\t\t)\n",
    "\n",
    "\n",
    "\n"
   ]
  },
  {
   "cell_type": "code",
   "execution_count": 7,
   "id": "0c5d763c",
   "metadata": {},
   "outputs": [
    {
     "data": {
      "image/png": "[encoded data removed]",
      "text/plain": [
       "<Figure size 432x288 with 1 Axes>"
      ]
     },
     "metadata": {
      "needs_background": "light"
     },
     "output_type": "display_data"
    },
    {
     "data": {
      "image/png": "[encoded data removed]",
      "text/plain": [
       "<Figure size 432x288 with 1 Axes>"
      ]
     },
     "metadata": {
      "needs_background": "light"
     },
     "output_type": "display_data"
    },
    {
     "name": "stderr",
     "output_type": "stream",
     "text": [
      "F:\\APPS\\PANDAS\\lib\\site-packages\\keras\\src\\engine\\training.py:3103: UserWarning: You are saving your model as an HDF5 file via `model.save()`. This file format is considered legacy. We recommend using instead the native Keras format, e.g. `model.save('my_model.keras')`.\n",
      "  saving_api.save_model(\n"
     ]
    }
   ],
   "source": [
    "%matplotlib inline\n",
    "accu=res.history['accuracy']\n",
    "val_acc=res.history['val_accuracy']\n",
    "loss=res.history['loss']\n",
    "val_loss=res.history['val_loss']\n",
    "\n",
    "epochs=range(len(accu)) #No. of epochs\n",
    "\n",
    "import matplotlib.pyplot as plt\n",
    "plt.plot(epochs,accu,'r',label='Training Accuracy')\n",
    "plt.plot(epochs,val_acc,'g',label='Testing Accuracy')\n",
    "plt.legend()\n",
    "plt.figure()\n",
    "\n",
    "#Plot training and validation loss per epoch\n",
    "plt.plot(epochs,loss,'r',label='Training Loss')\n",
    "plt.plot(epochs,val_loss,'g',label='Testing Loss')\n",
    "plt.legend()\n",
    "plt.show()\n",
    "\t\t\n",
    "model.save(\"HindiModel2.h5\")"
   ]
  },
  {
   "cell_type": "code",
   "execution_count": 8,
   "id": "57d6d7b5",
   "metadata": {},
   "outputs": [
    {
     "name": "stdout",
     "output_type": "stream",
     "text": [
      "[INFO] loading network...\n",
      "1/1 [==============================] - 0s 220ms/step\n",
      "The letter is  ज\n"
     ]
    }
   ],
   "source": [
    "from keras.preprocessing.image import img_to_array\n",
    "from keras.models import load_model\n",
    "import numpy as np\n",
    "import argparse\n",
    "# import imutils\n",
    "import cv2\n",
    "\n",
    "''' [\"ka\",\"kha\",\"ga\",\"gha\",\"kna\",\"cha\",\"chha\",\"ja\",\"jha\",\"yna\",\"t`a\",\"t`ha\",\"d`a\",\"d`ha\",\"adna\",\"ta\",\"tha\",\"da\",\"dha\",\"na\",\"pa\",\"pha\",\"ba\",\"bha\",\"ma\",\"yaw\",\"ra\",\"la\",\"waw\",\"sha\",\"shat\",\"sa\",\"ha\",\"aksha\",\"tra\",\"gya\",\"0\",\"1\",\"2\",\"3\",\"4\",\"5\",\"6\",\"7\",\"8\",\"9\"]\n",
    "labels =['yna', 't`aa', 't`haa', 'd`aa', 'd`haa', 'a`dna', 'ta', 'tha', 'da', 'dha', 'ka', 'na', 'pa', 'pha', 'ba', 'bha', 'ma', 'yaw', 'ra', 'la', 'waw', 'kha', 'sha', 'shat', 'sa', 'ha', 'aksha', 'tra', 'gya', 'ga', 'gha', 'kna', 'cha', 'chha', 'ja', 'jha', '0', '1', '2', '3', '4', '5', '6', '7', '8', '9']\n",
    "'''\n",
    "labels = [u'\\u091E',u'\\u091F',u'\\u0920',u'\\u0921',u'\\u0922',u'\\u0923',u'\\u0924',u'\\u0925',u'\\u0926',u'\\u0927',u'\\u0915',u'\\u0928',u'\\u092A',u'\\u092B',u'\\u092c',u'\\u092d',u'\\u092e',u'\\u092f',u'\\u0930',u'\\u0932',u'\\u0935',u'\\u0916',u'\\u0936',u'\\u0937',u'\\u0938',u'\\u0939','ksha','tra','gya',u'\\u0917',u'\\u0918',u'\\u0919',u'\\u091a',u'\\u091b',u'\\u091c',u'\\u091d',u'\\u0966',u'\\u0967',u'\\u0968',u'\\u0969',u'\\u096a',u'\\u096b',u'\\u096c',u'\\u096d',u'\\u096e',u'\\u096f']\n",
    "#\n",
    "import numpy as np\n",
    "from keras.preprocessing import image\n",
    "test_image = cv2.imread(\"c.png\")\n",
    "image = cv2.resize(test_image, (32,32))\n",
    "image = image.astype(\"float\") / 255.0\n",
    "image = img_to_array(image)\n",
    "image = cv2.cvtColor(image, cv2.COLOR_BGR2GRAY)\n",
    "image = np.expand_dims(image, axis=0)\n",
    "image = np.expand_dims(image, axis=3)\n",
    "print(\"[INFO] loading network...\")\n",
    "import tensorflow as tf\n",
    "model = tf.keras.models.load_model(\"F:\\PE UDEMY\\TEXT DETECTION\\FINAL 2\\HindiModel2.h5\")\n",
    "lists = model.predict(image)[0]\n",
    "print(\"The letter is \",labels[np.argmax(lists)])"
   ]
  },
  {
   "cell_type": "code",
   "execution_count": 12,
   "id": "5bbfe11d",
   "metadata": {},
   "outputs": [
    {
     "ename": "NameError",
     "evalue": "name 'pytesseract' is not defined",
     "output_type": "error",
     "traceback": [
      "\u001b[1;31m---------------------------------------------------------------------------\u001b[0m",
      "\u001b[1;31mNameError\u001b[0m                                 Traceback (most recent call last)",
      "Input \u001b[1;32mIn [12]\u001b[0m, in \u001b[0;36m<cell line: 1>\u001b[1;34m()\u001b[0m\n\u001b[1;32m----> 1\u001b[0m \u001b[43mpytesseract\u001b[49m\u001b[38;5;241m.\u001b[39mpytesseract\u001b[38;5;241m.\u001b[39mtesseract_cmd\u001b[38;5;241m=\u001b[39m\u001b[38;5;124mr\u001b[39m\u001b[38;5;124m'\u001b[39m\u001b[38;5;124mC:\u001b[39m\u001b[38;5;124m\\\u001b[39m\u001b[38;5;124mProgram Files\u001b[39m\u001b[38;5;124m\\\u001b[39m\u001b[38;5;124mTesseract-OCR\u001b[39m\u001b[38;5;124m\\\u001b[39m\u001b[38;5;124mtesseract.exe\u001b[39m\u001b[38;5;124m'\u001b[39m\n",
      "\u001b[1;31mNameError\u001b[0m: name 'pytesseract' is not defined"
     ]
    }
   ],
   "source": [
    "# pytesseract.pytesseract.tesseract_cmd=r'C:\\Program Files\\Tesseract-OCR\\tesseract.exe'"
   ]
  },
  {
   "cell_type": "code",
   "execution_count": 29,
   "id": "67e0631b",
   "metadata": {},
   "outputs": [
    {
     "name": "stdout",
     "output_type": "stream",
     "text": [
      "[INFO] loading network...\n",
      "1/1 [==============================] - 0s 387ms/step\n",
      "The letter is  ख\n"
     ]
    }
   ],
   "source": [
    "from keras.preprocessing.image import img_to_array\n",
    "from keras.models import load_model\n",
    "import numpy as np\n",
    "import argparse\n",
    "# import imutils\n",
    "import cv2\n",
    "\n",
    "''' [\"ka\",\"kha\",\"ga\",\"gha\",\"kna\",\"cha\",\"chha\",\"ja\",\"jha\",\"yna\",\"t`a\",\"t`ha\",\"d`a\",\"d`ha\",\"adna\",\"ta\",\"tha\",\"da\",\"dha\",\"na\",\"pa\",\"pha\",\"ba\",\"bha\",\"ma\",\"yaw\",\"ra\",\"la\",\"waw\",\"sha\",\"shat\",\"sa\",\"ha\",\"aksha\",\"tra\",\"gya\",\"0\",\"1\",\"2\",\"3\",\"4\",\"5\",\"6\",\"7\",\"8\",\"9\"]\n",
    "labels =['yna', 't`aa', 't`haa', 'd`aa', 'd`haa', 'a`dna', 'ta', 'tha', 'da', 'dha', 'ka', 'na', 'pa', 'pha', 'ba', 'bha', 'ma', 'yaw', 'ra', 'la', 'waw', 'kha', 'sha', 'shat', 'sa', 'ha', 'aksha', 'tra', 'gya', 'ga', 'gha', 'kna', 'cha', 'chha', 'ja', 'jha', '0', '1', '2', '3', '4', '5', '6', '7', '8', '9']\n",
    "'''\n",
    "labels = [u'\\u091E',u'\\u091F',u'\\u0920',u'\\u0921',u'\\u0922',u'\\u0923',u'\\u0924',u'\\u0925',u'\\u0926',u'\\u0927',u'\\u0915',u'\\u0928',u'\\u092A',u'\\u092B',u'\\u092c',u'\\u092d',u'\\u092e',u'\\u092f',u'\\u0930',u'\\u0932',u'\\u0935',u'\\u0916',u'\\u0936',u'\\u0937',u'\\u0938',u'\\u0939','ksha','tra','gya',u'\\u0917',u'\\u0918',u'\\u0919',u'\\u091a',u'\\u091b',u'\\u091c',u'\\u091d',u'\\u0966',u'\\u0967',u'\\u0968',u'\\u0969',u'\\u096a',u'\\u096b',u'\\u096c',u'\\u096d',u'\\u096e',u'\\u096f']\n",
    "#\n",
    "import numpy as np\n",
    "from keras.preprocessing import image\n",
    "test_image = cv2.imread(\"d.jpg\")\n",
    "image = cv2.resize(test_image, (32,32))\n",
    "image = image.astype(\"float\") / 255.0\n",
    "image = img_to_array(image)\n",
    "image = cv2.cvtColor(image, cv2.COLOR_BGR2GRAY)\n",
    "image = np.expand_dims(image, axis=0)\n",
    "image = np.expand_dims(image, axis=3)\n",
    "print(\"[INFO] loading network...\")\n",
    "import tensorflow as tf\n",
    "model = tf.keras.models.load_model(\"F:\\PE UDEMY\\TEXT DETECTION\\FINAL 2\\HindiModel2.h5\")\n",
    "lists = model.predict(image)[0]\n",
    "print(\"The letter is \",labels[np.argmax(lists)])"
   ]
  },
  {
   "cell_type": "code",
   "execution_count": 41,
   "id": "7549e245",
   "metadata": {},
   "outputs": [
    {
     "name": "stderr",
     "output_type": "stream",
     "text": [
      "F:\\APPS\\PANDAS\\lib\\site-packages\\IPython\\core\\pylabtools.py:151: UserWarning: Glyph 2358 (\\N{DEVANAGARI LETTER SHA}) missing from current font.\n",
      "  fig.canvas.print_figure(bytes_io, **kw)\n",
      "F:\\APPS\\PANDAS\\lib\\site-packages\\IPython\\core\\pylabtools.py:151: UserWarning: Matplotlib currently does not support Devanagari natively.\n",
      "  fig.canvas.print_figure(bytes_io, **kw)\n",
      "F:\\APPS\\PANDAS\\lib\\site-packages\\IPython\\core\\pylabtools.py:151: UserWarning: Glyph 2367 (\\N{DEVANAGARI VOWEL SIGN I}) missing from current font.\n",
      "  fig.canvas.print_figure(bytes_io, **kw)\n",
      "F:\\APPS\\PANDAS\\lib\\site-packages\\IPython\\core\\pylabtools.py:151: UserWarning: Glyph 2325 (\\N{DEVANAGARI LETTER KA}) missing from current font.\n",
      "  fig.canvas.print_figure(bytes_io, **kw)\n",
      "F:\\APPS\\PANDAS\\lib\\site-packages\\IPython\\core\\pylabtools.py:151: UserWarning: Glyph 2366 (\\N{DEVANAGARI VOWEL SIGN AA}) missing from current font.\n",
      "  fig.canvas.print_figure(bytes_io, **kw)\n",
      "F:\\APPS\\PANDAS\\lib\\site-packages\\IPython\\core\\pylabtools.py:151: UserWarning: Glyph 2357 (\\N{DEVANAGARI LETTER VA}) missing from current font.\n",
      "  fig.canvas.print_figure(bytes_io, **kw)\n",
      "F:\\APPS\\PANDAS\\lib\\site-packages\\IPython\\core\\pylabtools.py:151: UserWarning: Glyph 2351 (\\N{DEVANAGARI LETTER YA}) missing from current font.\n",
      "  fig.canvas.print_figure(bytes_io, **kw)\n",
      "F:\\APPS\\PANDAS\\lib\\site-packages\\IPython\\core\\pylabtools.py:151: UserWarning: Glyph 2370 (\\N{DEVANAGARI VOWEL SIGN UU}) missing from current font.\n",
      "  fig.canvas.print_figure(bytes_io, **kw)\n",
      "F:\\APPS\\PANDAS\\lib\\site-packages\\IPython\\core\\pylabtools.py:151: UserWarning: Glyph 2344 (\\N{DEVANAGARI LETTER NA}) missing from current font.\n",
      "  fig.canvas.print_figure(bytes_io, **kw)\n",
      "F:\\APPS\\PANDAS\\lib\\site-packages\\IPython\\core\\pylabtools.py:151: UserWarning: Glyph 2375 (\\N{DEVANAGARI VOWEL SIGN E}) missing from current font.\n",
      "  fig.canvas.print_figure(bytes_io, **kw)\n",
      "F:\\APPS\\PANDAS\\lib\\site-packages\\IPython\\core\\pylabtools.py:151: UserWarning: Glyph 2342 (\\N{DEVANAGARI LETTER DA}) missing from current font.\n",
      "  fig.canvas.print_figure(bytes_io, **kw)\n",
      "F:\\APPS\\PANDAS\\lib\\site-packages\\IPython\\core\\pylabtools.py:151: UserWarning: Glyph 2381 (\\N{DEVANAGARI SIGN VIRAMA}) missing from current font.\n",
      "  fig.canvas.print_figure(bytes_io, **kw)\n",
      "F:\\APPS\\PANDAS\\lib\\site-packages\\IPython\\core\\pylabtools.py:151: UserWarning: Glyph 2361 (\\N{DEVANAGARI LETTER HA}) missing from current font.\n",
      "  fig.canvas.print_figure(bytes_io, **kw)\n",
      "F:\\APPS\\PANDAS\\lib\\site-packages\\IPython\\core\\pylabtools.py:151: UserWarning: Glyph 2306 (\\N{DEVANAGARI SIGN ANUSVARA}) missing from current font.\n",
      "  fig.canvas.print_figure(bytes_io, **kw)\n",
      "F:\\APPS\\PANDAS\\lib\\site-packages\\IPython\\core\\pylabtools.py:151: UserWarning: Glyph 2341 (\\N{DEVANAGARI LETTER THA}) missing from current font.\n",
      "  fig.canvas.print_figure(bytes_io, **kw)\n",
      "F:\\APPS\\PANDAS\\lib\\site-packages\\IPython\\core\\pylabtools.py:151: UserWarning: Glyph 2346 (\\N{DEVANAGARI LETTER PA}) missing from current font.\n",
      "  fig.canvas.print_figure(bytes_io, **kw)\n",
      "F:\\APPS\\PANDAS\\lib\\site-packages\\IPython\\core\\pylabtools.py:151: UserWarning: Glyph 2352 (\\N{DEVANAGARI LETTER RA}) missing from current font.\n",
      "  fig.canvas.print_figure(bytes_io, **kw)\n",
      "F:\\APPS\\PANDAS\\lib\\site-packages\\IPython\\core\\pylabtools.py:151: UserWarning: Glyph 2379 (\\N{DEVANAGARI VOWEL SIGN O}) missing from current font.\n",
      "  fig.canvas.print_figure(bytes_io, **kw)\n",
      "F:\\APPS\\PANDAS\\lib\\site-packages\\IPython\\core\\pylabtools.py:151: UserWarning: Glyph 2327 (\\N{DEVANAGARI LETTER GA}) missing from current font.\n",
      "  fig.canvas.print_figure(bytes_io, **kw)\n",
      "F:\\APPS\\PANDAS\\lib\\site-packages\\IPython\\core\\pylabtools.py:151: UserWarning: Glyph 2350 (\\N{DEVANAGARI LETTER MA}) missing from current font.\n",
      "  fig.canvas.print_figure(bytes_io, **kw)\n",
      "F:\\APPS\\PANDAS\\lib\\site-packages\\IPython\\core\\pylabtools.py:151: UserWarning: Glyph 2369 (\\N{DEVANAGARI VOWEL SIGN U}) missing from current font.\n",
      "  fig.canvas.print_figure(bytes_io, **kw)\n",
      "F:\\APPS\\PANDAS\\lib\\site-packages\\IPython\\core\\pylabtools.py:151: UserWarning: Glyph 2319 (\\N{DEVANAGARI LETTER E}) missing from current font.\n",
      "  fig.canvas.print_figure(bytes_io, **kw)\n",
      "F:\\APPS\\PANDAS\\lib\\site-packages\\IPython\\core\\pylabtools.py:151: UserWarning: Glyph 2332 (\\N{DEVANAGARI LETTER JA}) missing from current font.\n",
      "  fig.canvas.print_figure(bytes_io, **kw)\n",
      "F:\\APPS\\PANDAS\\lib\\site-packages\\IPython\\core\\pylabtools.py:151: UserWarning: Glyph 2376 (\\N{DEVANAGARI VOWEL SIGN AI}) missing from current font.\n",
      "  fig.canvas.print_figure(bytes_io, **kw)\n",
      "F:\\APPS\\PANDAS\\lib\\site-packages\\IPython\\core\\pylabtools.py:151: UserWarning: Glyph 2331 (\\N{DEVANAGARI LETTER CHA}) missing from current font.\n",
      "  fig.canvas.print_figure(bytes_io, **kw)\n",
      "F:\\APPS\\PANDAS\\lib\\site-packages\\IPython\\core\\pylabtools.py:151: UserWarning: Glyph 2354 (\\N{DEVANAGARI LETTER LA}) missing from current font.\n",
      "  fig.canvas.print_figure(bytes_io, **kw)\n",
      "F:\\APPS\\PANDAS\\lib\\site-packages\\IPython\\core\\pylabtools.py:151: UserWarning: Glyph 2360 (\\N{DEVANAGARI LETTER SA}) missing from current font.\n",
      "  fig.canvas.print_figure(bytes_io, **kw)\n",
      "F:\\APPS\\PANDAS\\lib\\site-packages\\IPython\\core\\pylabtools.py:151: UserWarning: Glyph 2335 (\\N{DEVANAGARI LETTER TTA}) missing from current font.\n",
      "  fig.canvas.print_figure(bytes_io, **kw)\n",
      "F:\\APPS\\PANDAS\\lib\\site-packages\\IPython\\core\\pylabtools.py:151: UserWarning: Glyph 2368 (\\N{DEVANAGARI VOWEL SIGN II}) missing from current font.\n",
      "  fig.canvas.print_figure(bytes_io, **kw)\n",
      "F:\\APPS\\PANDAS\\lib\\site-packages\\IPython\\core\\pylabtools.py:151: UserWarning: Glyph 2404 (\\N{DEVANAGARI DANDA}) missing from current font.\n",
      "  fig.canvas.print_figure(bytes_io, **kw)\n",
      "F:\\APPS\\PANDAS\\lib\\site-packages\\IPython\\core\\pylabtools.py:151: UserWarning: Glyph 2340 (\\N{DEVANAGARI LETTER TA}) missing from current font.\n",
      "  fig.canvas.print_figure(bytes_io, **kw)\n",
      "F:\\APPS\\PANDAS\\lib\\site-packages\\IPython\\core\\pylabtools.py:151: UserWarning: Glyph 2334 (\\N{DEVANAGARI LETTER NYA}) missing from current font.\n",
      "  fig.canvas.print_figure(bytes_io, **kw)\n",
      "F:\\APPS\\PANDAS\\lib\\site-packages\\IPython\\core\\pylabtools.py:151: UserWarning: Glyph 2343 (\\N{DEVANAGARI LETTER DHA}) missing from current font.\n",
      "  fig.canvas.print_figure(bytes_io, **kw)\n"
     ]
    },
    {
     "data": {
      "image/png": "[encoded data removed]",
      "text/plain": [
       "<Figure size 432x288 with 1 Axes>"
      ]
     },
     "metadata": {
      "needs_background": "light"
     },
     "output_type": "display_data"
    },
    {
     "name": "stdout",
     "output_type": "stream",
     "text": [
      "Detected Text: शिकाव यूशन के, विद्या कहां थे\n",
      "प्रोग्राम हुए जैछ लंस्काश कहां सै हो\n",
      "\n",
      "पं का; दया कहां टी हो।\n",
      "\n",
      "पाती हुक्ञा केमिकल का; गां2 कहां सै\n",
      "\n",
      "संत हुए श्वार्ध के; शत्संग कहां टी\n",
      "\n",
      "वान कहां थी हो।\n"
     ]
    }
   ],
   "source": [
    "import cv2\n",
    "import pytesseract\n",
    "from PIL import Image\n",
    "import matplotlib.pyplot as plt\n",
    "\n",
    "# Replace with the path to your Tesseract installation\n",
    "pytesseract.pytesseract.tesseract_cmd = r'C:\\Program Files\\Tesseract-OCR\\tesseract.exe'\n",
    "\n",
    "# Load your image\n",
    "image_path = \"a.jpg\"\n",
    "image = cv2.imread(image_path)\n",
    "\n",
    "# Convert the image to grayscale\n",
    "gray_image = cv2.cvtColor(image, cv2.COLOR_BGR2GRAY)\n",
    "\n",
    "# Perform thresholding to enhance text\n",
    "_, thresh_image = cv2.threshold(gray_image, 0, 255, cv2.THRESH_BINARY | cv2.THRESH_OTSU)\n",
    "\n",
    "# Specify the Tesseract data path directly in the command\n",
    "tessdata_dir_config = '--tessdata-dir \"C:\\\\Program Files\\\\Tesseract-OCR\\\\tessdata\"'\n",
    "\n",
    "# Use pytesseract to extract text in Hindi\n",
    "detected_text = pytesseract.image_to_string(Image.fromarray(thresh_image), lang='hin', config=tessdata_dir_config)\n",
    "\n",
    "# Display the image and detected text\n",
    "plt.imshow(thresh_image, cmap=\"gray\")\n",
    "plt.title(f\"Detected Text: {detected_text.strip()}\")\n",
    "plt.axis(\"off\")\n",
    "plt.show()\n",
    "\n",
    "# Print the detected text\n",
    "print(\"Detected Text:\", detected_text.strip())\n"
   ]
  },
  {
   "cell_type": "code",
   "execution_count": null,
   "id": "b21429e2",
   "metadata": {},
   "outputs": [],
   "source": []
  }
 ],
 "metadata": {
  "kernelspec": {
   "display_name": "Python 3 (ipykernel)",
   "language": "python",
   "name": "python3"
  },
  "language_info": {
   "codemirror_mode": {
    "name": "ipython",
    "version": 3
   },
   "file_extension": ".py",
   "mimetype": "text/x-python",
   "name": "python",
   "nbconvert_exporter": "python",
   "pygments_lexer": "ipython3",
   "version": "3.10.4"
  }
 },
 "nbformat": 4,
 "nbformat_minor": 5
}
